{
 "cells": [
  {
   "cell_type": "code",
   "execution_count": 1,
   "id": "98f6ee21",
   "metadata": {},
   "outputs": [],
   "source": [
    "import pandas as pd\n",
    "import numpy as np\n",
    "import datetime\n",
    "import warnings\n",
    "import matplotlib.pyplot as plt\n",
    "import seaborn as sns\n",
    "\n",
    "pd.set_option('display.max_columns', None)\n",
    "warnings.filterwarnings('ignore')\n",
    "\n",
    "customer_df = pd.read_csv(\"/Users/suso/BootcampDA/Unit4/Labs/lab-cleaning-categorical-data/files_for_lab/we_fn_use_c_marketing_customer_value_analysis.csv\")\n",
    "new_column_names = {\n",
    "    'Customer': 'customer',\n",
    "    'State': 'state',\n",
    "    'Customer Lifetime Value': 'customer_lifetime_value',\n",
    "    'Response': 'response',\n",
    "    'Coverage': 'coverage',\n",
    "    'Education': 'education',\n",
    "    'Effective To Date': 'effective_to_date',\n",
    "    'EmploymentStatus': 'employment_status',\n",
    "    'Gender': 'gender',\n",
    "    'Income': 'income',\n",
    "    'Location Code': 'location_code',\n",
    "    'Marital Status': 'marital_status',\n",
    "    'Monthly Premium Auto': 'monthly_premium_auto',\n",
    "    'Months Since Last Claim': 'months_since_last_claim',\n",
    "    'Months Since Policy Inception': 'months_since_policy_inception',\n",
    "    'Number of Open Complaints': 'number_of_open_complaints',\n",
    "    'Number of Policies': 'number_of_policies',\n",
    "    'Policy Type': 'policy_type',\n",
    "    'Policy': 'policy',\n",
    "    'Renew Offer Type': 'renew_offer_type',\n",
    "    'Sales Channel': 'sales_channel',\n",
    "    'Total Claim Amount': 'total_claim_amount',\n",
    "    'Vehicle Class': 'vehicle_class',\n",
    "    'Vehicle Size': 'vehicle_size',\n",
    "}\n",
    "\n",
    "customer_df = customer_df.rename(columns=new_column_names)\n",
    "\n",
    "customer_df['effective_to_date'] = pd.to_datetime(customer_df['effective_to_date'])\n",
    "\n",
    "customer_df = customer_df.drop('customer', axis=1)\n",
    "\n",
    "numerical_df = customer_df.select_dtypes(include=['int64', 'float64'])\n",
    "categorical_df = customer_df.select_dtypes(include=['object'])"
   ]
  },
  {
   "cell_type": "code",
   "execution_count": 3,
   "id": "1dcb5cda",
   "metadata": {},
   "outputs": [],
   "source": [
    "#1. We will start with removing outliers. So far, we have discussed different methods to remove outliers. Use the one you feel more comfortable with, define a function for that. Use the function to remove the outliers and apply it to the dataframe.\n",
    "\n",
    "import numpy as np\n",
    "\n",
    "def remove_outliers_zscore(customer_df, numerical_df, threshold=3):\n",
    "    z_scores = np.abs((numerical_df - numerical_df.mean()) / numerical_df.std())\n",
    "    outliers = (z_scores > threshold).any(axis=1)\n",
    "    return customer_df[~outliers]\n",
    "\n",
    "cleaned_df = remove_outliers_zscore(customer_df, numerical_df)"
   ]
  },
  {
   "cell_type": "code",
   "execution_count": 5,
   "id": "0322bed9",
   "metadata": {},
   "outputs": [],
   "source": [
    "#2. Create a copy of the dataframe for the data wrangling.\n",
    "\n",
    "cleaned_df_copy = cleaned_df.copy()"
   ]
  },
  {
   "cell_type": "code",
   "execution_count": 7,
   "id": "956ca0c9",
   "metadata": {},
   "outputs": [],
   "source": [
    "#3. Normalize the continuous variables. You can use any one method you want.\n",
    "\n",
    "from sklearn.preprocessing import MinMaxScaler\n",
    "\n",
    "numericals = cleaned_df_copy.select_dtypes(include=['int64', 'float64'])\n",
    "categoricals = cleaned_df_copy.select_dtypes(include=['object'])\n",
    "\n",
    "scaler = MinMaxScaler()\n",
    "numericals = scaler.fit_transform(numericals)"
   ]
  },
  {
   "cell_type": "code",
   "execution_count": 20,
   "id": "42d00899",
   "metadata": {},
   "outputs": [
    {
     "name": "stdout",
     "output_type": "stream",
     "text": [
      "state                [Washington, Arizona, Nevada, California, Oregon]\n",
      "response                                                     [No, Yes]\n",
      "coverage                                    [Basic, Extended, Premium]\n",
      "education            [Bachelor, College, Master, High School or Bel...\n",
      "employment_status    [Employed, Unemployed, Medical Leave, Disabled...\n",
      "gender                                                          [F, M]\n",
      "location_code                                 [Suburban, Rural, Urban]\n",
      "marital_status                             [Married, Single, Divorced]\n",
      "policy_type              [Corporate Auto, Personal Auto, Special Auto]\n",
      "policy               [Corporate L3, Personal L3, Corporate L2, Pers...\n",
      "renew_offer_type                      [Offer1, Offer3, Offer2, Offer4]\n",
      "sales_channel                        [Agent, Call Center, Web, Branch]\n",
      "vehicle_class        [Two-Door Car, Four-Door Car, SUV, Sports Car,...\n",
      "vehicle_size                                   [Medsize, Small, Large]\n",
      "dtype: object\n",
      "['Two-Door Car' 'Four-Door Car' 'SUV' 'Sports Car' 'Luxury SUV'\n",
      " 'Luxury Car']\n"
     ]
    }
   ],
   "source": [
    "unique_values_multiple = categoricals.apply(lambda x: x.unique())\n",
    "print(unique_values_multiple)\n",
    "unique_values_variable1 = cleaned_df_copy['vehicle_class'].unique()\n",
    "print(unique_values_variable1)\n"
   ]
  },
  {
   "cell_type": "code",
   "execution_count": 21,
   "id": "86887b52",
   "metadata": {},
   "outputs": [],
   "source": [
    "#4. Encode the categorical variables\n",
    "\n",
    "cleaned_df_copy[\"coverage\"] = cleaned_df_copy[\"coverage\"].map({\"Basic\": 0, \"Extended\": 1, \"Premium\": 2})\n",
    "cleaned_df_copy[\"state\"] = cleaned_df_copy[\"state\"].map({\"Washington\": 0, \"Arizona\": 1, \"Nevada\": 2, \"California\": 3, \"Oregon\": 4})\n",
    "cleaned_df_copy[\"response\"] = cleaned_df_copy[\"response\"].map({\"No\": 0, \"Yes\": 1})\n",
    "cleaned_df_copy[\"education\"] = cleaned_df_copy[\"education\"].map({\"Bachelor\": 0, \"College\": 1, \"Master\": 2, \"High School or Below\": 3, \"Doctor\": 4})\n",
    "cleaned_df_copy[\"employment_status\"] = cleaned_df_copy[\"employment_status\"].map({\"Employed\": 0, \"Unemployed\": 1, \"Medical Leave\": 2, \"Disabled\": 3, \"Retired\": 4})\n",
    "cleaned_df_copy[\"gender\"] = cleaned_df_copy[\"gender\"].map({\"F\": 0, \"M\": 1})\n",
    "cleaned_df_copy[\"location_code\"] = cleaned_df_copy[\"location_code\"].map({\"Suburban\": 0, \"Rural\": 1, \"Urban\": 2})\n",
    "cleaned_df_copy[\"marital_status\"] = cleaned_df_copy[\"marital_status\"].map({\"Married\": 0, \"Single\": 1, \"Divorced\": 2})\n",
    "cleaned_df_copy[\"policy_type\"] = cleaned_df_copy[\"policy_type\"].map({\"Corporate Auto\": 0, \"Personal Auto\": 1, \"Special Auto\": 2})\n",
    "cleaned_df_copy[\"policy\"] = cleaned_df_copy[\"policy\"].map({\"Corporate L3\": 0, \"Personal L3\": 1, \"Corporate L2\": 2, \"Personal L1\": 3, \"Special L2\": 4, \"Corporate L1\": 5, \"Personal L2\": 6, \"Special L1\": 7, \"Special L3\": 8})\n",
    "cleaned_df_copy[\"renew_offer_type\"] = cleaned_df_copy[\"renew_offer_type\"].map({\"Offer1\": 0, \"Offer3\": 1, \"Offer2\": 2, \"Offer4\": 3})\n",
    "cleaned_df_copy[\"sales_channel\"] = cleaned_df_copy[\"sales_channel\"].map({\"Agent\": 0, \"Call Center\": 1, \"Web\": 2, \"Branch\": 3})\n",
    "cleaned_df_copy[\"vehicle_class\"] = cleaned_df_copy[\"vehicle_class\"].map({\"Two-Door Car\": 0, \"Four-Door Car\": 1, \"SUV\": 2, \"Sports Car\": 3, \"Luxury SUV\": 4, \"Luxury Car\": 5})\n",
    "cleaned_df_copy[\"vehicle_size\"] = cleaned_df_copy[\"vehicle_size\"].map({\"Medsize\": 0, \"Small\": 1, \"Large\": 2})"
   ]
  },
  {
   "cell_type": "code",
   "execution_count": 10,
   "id": "1d3bd627",
   "metadata": {},
   "outputs": [],
   "source": [
    "#5. The time variable can be useful. Try to transform its data into a useful one. Hint: Day week and month as integers might be useful.\n",
    "\n",
    "cleaned_df_copy['day_of_week'] = cleaned_df_copy['effective_to_date'].dt.dayofweek\n",
    "cleaned_df_copy['month'] = cleaned_df_copy['effective_to_date'].dt.month"
   ]
  },
  {
   "cell_type": "code",
   "execution_count": 22,
   "id": "ddd350bd",
   "metadata": {},
   "outputs": [],
   "source": [
    "#6. Since the model will only accept numerical data, check and make sure that every column is numerical, if some are not, change it using encoding.\n",
    "\n",
    "non_numeric_columns = []\n",
    "for column in cleaned_df_copy.columns:\n",
    "    if not pd.api.types.is_numeric_dtype(cleaned_df_copy[column]):\n",
    "        non_numeric_columns.append(column)"
   ]
  },
  {
   "cell_type": "code",
   "execution_count": 23,
   "id": "f9a80e36",
   "metadata": {},
   "outputs": [
    {
     "name": "stdout",
     "output_type": "stream",
     "text": [
      "['effective_to_date']\n"
     ]
    }
   ],
   "source": [
    "print(non_numeric_columns)"
   ]
  },
  {
   "cell_type": "code",
   "execution_count": 24,
   "id": "cd8207be",
   "metadata": {},
   "outputs": [],
   "source": [
    "cleaned_df_copy = cleaned_df_copy.drop('effective_to_date', axis=1)"
   ]
  },
  {
   "cell_type": "code",
   "execution_count": 25,
   "id": "b2ac7a75",
   "metadata": {},
   "outputs": [],
   "source": [
    "non_numeric_columns = []\n",
    "for column in cleaned_df_copy.columns:\n",
    "    if not pd.api.types.is_numeric_dtype(cleaned_df_copy[column]):\n",
    "        non_numeric_columns.append(column)"
   ]
  },
  {
   "cell_type": "code",
   "execution_count": 26,
   "id": "dba68f0e",
   "metadata": {},
   "outputs": [
    {
     "name": "stdout",
     "output_type": "stream",
     "text": [
      "[]\n"
     ]
    }
   ],
   "source": [
    "print(non_numeric_columns)"
   ]
  },
  {
   "cell_type": "code",
   "execution_count": null,
   "id": "24325e7b",
   "metadata": {},
   "outputs": [],
   "source": []
  }
 ],
 "metadata": {
  "kernelspec": {
   "display_name": "Python 3 (ipykernel)",
   "language": "python",
   "name": "python3"
  },
  "language_info": {
   "codemirror_mode": {
    "name": "ipython",
    "version": 3
   },
   "file_extension": ".py",
   "mimetype": "text/x-python",
   "name": "python",
   "nbconvert_exporter": "python",
   "pygments_lexer": "ipython3",
   "version": "3.11.5"
  }
 },
 "nbformat": 4,
 "nbformat_minor": 5
}
